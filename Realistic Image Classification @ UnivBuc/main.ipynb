{
 "cells": [
  {
   "cell_type": "code",
   "execution_count": 66,
   "id": "56a2ee6f-d37d-40d3-8a94-ec536c0f2da2",
   "metadata": {
    "tags": []
   },
   "outputs": [],
   "source": [
    "import numpy as np\n",
    "import pandas as pd\n",
    "from PIL import Image\n",
    "import os\n",
    "from skimage import io\n",
    "from tqdm import tqdm\n",
    "from sklearn.svm import SVC\n",
    "from sklearn.metrics import accuracy_score\n",
    "from sklearn.neighbors import KNeighborsClassifier\n",
    "from sklearn.linear_model import SGDClassifier\n",
    "from sklearn.neural_network import MLPClassifier\n",
    "from sklearn.preprocessing import normalize\n",
    "from xgboost import XGBClassifier\n",
    "import seaborn as sns"
   ]
  },
  {
   "cell_type": "code",
   "execution_count": 18,
   "id": "42ef185f-11dc-449f-82cc-e81abfa9a266",
   "metadata": {
    "tags": []
   },
   "outputs": [],
   "source": [
    "# train_labels = pd.read_csv(\"train.csv\", index_col=\"image_id\")\n",
    "# test_labels = pd.read_csv(\"test.csv\", index_col=\"image_id\")\n",
    "# validation_labels = pd.read_csv(\"validation.csv\", index_col=\"image_id\")\n",
    "\n",
    "train_labels = pd.read_csv(\"train.csv\")\n",
    "test_labels = pd.read_csv(\"test.csv\")\n",
    "validation_labels = pd.read_csv(\"validation.csv\")"
   ]
  },
  {
   "cell_type": "code",
   "execution_count": 41,
   "id": "19e60910-7198-4351-8044-40488bf2c752",
   "metadata": {
    "tags": []
   },
   "outputs": [],
   "source": [
    "def show_image(image):\n",
    "    io.imshow(image.astype(np.uint8))\n",
    "    io.show()"
   ]
  },
  {
   "cell_type": "code",
   "execution_count": 50,
   "id": "d6aeeb0d-ff20-4c7b-a9c9-ca1022d474c1",
   "metadata": {
    "tags": []
   },
   "outputs": [],
   "source": [
    "def normalize_data(data, type=None):\n",
    "    if type == None:\n",
    "        return (data)\n",
    "    elif type == 'l2':\n",
    "        return normalize(data, norm='l2')\n",
    "    elif type == 'l1':\n",
    "        return normalize(data, norm='l1')"
   ]
  },
  {
   "cell_type": "code",
   "execution_count": 4,
   "id": "da1ff9f4-1e4f-44bb-bd50-3aa10d8cd48a",
   "metadata": {
    "tags": []
   },
   "outputs": [],
   "source": [
    "def calculeaza_std_si_mean(folder, label_file):\n",
    "    pathtodir = os.getcwd()\n",
    "    pathtodir = os.path.join(pathtodir, folder)\n",
    "    print(pathtodir)\n",
    "\n",
    "    aux_imagini = []\n",
    "    cnt = 0\n",
    "    for nume_imagine in tqdm(label_file.loc[:, \"image_id\"]):\n",
    "        image_name = nume_imagine + \".png\"\n",
    "        pathToImage = os.path.join(pathtodir, image_name)\n",
    "        imagine = np.array(Image.open(pathToImage))\n",
    "        imagine = np.ravel(imagine.copy())\n",
    "        if(imagine.shape == (6400, )):\n",
    "            # if folder == \"train\":#in viitor va trb sa sterg imaginile alb/negru\n",
    "            #     continue\n",
    "            imagine = np.concatenate((imagine, imagine, imagine))\n",
    "        #imagine = np.digitize(imagine, intervale)\n",
    "        #imagine = (imagine - min(imagine))/(max(imagine) - min(imagine))\n",
    "        aux_imagini.append(imagine)\n",
    "    imagini = np.array(aux_imagini)\n",
    "    return (np.mean(imagini), np.std(imagini))\n",
    "    "
   ]
  },
  {
   "cell_type": "code",
   "execution_count": 42,
   "id": "7b96e4ea-f9ee-443e-b426-dfd87c9037c5",
   "metadata": {
    "tags": []
   },
   "outputs": [],
   "source": [
    "def load_images_from_dir(folder, label_file):\n",
    "    pathtodir = os.getcwd()\n",
    "    pathtodir = os.path.join(pathtodir, folder)\n",
    "    print(pathtodir)\n",
    "\n",
    "    aux_imagini = []\n",
    "    intervale = np.linspace(start=0, stop=1.1, num=25)\n",
    "    cnt = 0\n",
    "    for nume_imagine in tqdm(label_file.loc[:, \"image_id\"]):\n",
    "        image_name = nume_imagine + \".png\"\n",
    "        pathToImage = os.path.join(pathtodir, image_name)\n",
    "        imagine = np.array(Image.open(pathToImage))\n",
    "        imagine = np.ravel(imagine.copy())\n",
    "        if(imagine.shape == (6400, )):\n",
    "            # if folder == \"train\":#in viitor va trb sa sterg imaginile alb/negru\n",
    "            #     continue\n",
    "            imagine = np.concatenate((imagine, imagine, imagine))\n",
    "        #img = imagine.copy()\n",
    "        imagine = imagine.astype(np.uint8)\n",
    "        aux_imagini.append(imagine)\n",
    "    imagini = np.array(aux_imagini)\n",
    "    return imagini\n",
    "    "
   ]
  },
  {
   "cell_type": "code",
   "execution_count": 9,
   "id": "0defdaf0-9618-4ac9-8336-e307dbf252b4",
   "metadata": {
    "tags": []
   },
   "outputs": [
    {
     "ename": "NameError",
     "evalue": "name 'calculeaza_std_si_mean' is not defined",
     "output_type": "error",
     "traceback": [
      "\u001b[1;31m---------------------------------------------------------------------------\u001b[0m",
      "\u001b[1;31mNameError\u001b[0m                                 Traceback (most recent call last)",
      "Cell \u001b[1;32mIn[9], line 1\u001b[0m\n\u001b[1;32m----> 1\u001b[0m mean, std \u001b[38;5;241m=\u001b[39m calculeaza_std_si_mean(\u001b[38;5;124m\"\u001b[39m\u001b[38;5;124mtrain\u001b[39m\u001b[38;5;124m\"\u001b[39m, train_labels)\n",
      "\u001b[1;31mNameError\u001b[0m: name 'calculeaza_std_si_mean' is not defined"
     ]
    }
   ],
   "source": [
    "mean, std = calculeaza_std_si_mean(\"train\", train_labels)"
   ]
  },
  {
   "cell_type": "code",
   "execution_count": 69,
   "id": "59923b06-a714-49c8-8714-f0d7ffa46d27",
   "metadata": {
    "tags": []
   },
   "outputs": [
    {
     "name": "stdout",
     "output_type": "stream",
     "text": [
      "C:\\Users\\Fabi\\Desktop\\ml\\kaggle\\Realistic Image Classification @ UnivBuc\\train\n"
     ]
    },
    {
     "name": "stderr",
     "output_type": "stream",
     "text": [
      "100%|██████████████████████████████████████████████████████████████████████████| 10500/10500 [00:04<00:00, 2301.41it/s]\n"
     ]
    },
    {
     "name": "stdout",
     "output_type": "stream",
     "text": [
      "C:\\Users\\Fabi\\Desktop\\ml\\kaggle\\Realistic Image Classification @ UnivBuc\\test\n"
     ]
    },
    {
     "name": "stderr",
     "output_type": "stream",
     "text": [
      "100%|████████████████████████████████████████████████████████████████████████████| 4500/4500 [00:01<00:00, 2263.58it/s]\n"
     ]
    },
    {
     "name": "stdout",
     "output_type": "stream",
     "text": [
      "C:\\Users\\Fabi\\Desktop\\ml\\kaggle\\Realistic Image Classification @ UnivBuc\\validation\n"
     ]
    },
    {
     "name": "stderr",
     "output_type": "stream",
     "text": [
      "100%|████████████████████████████████████████████████████████████████████████████| 3000/3000 [00:01<00:00, 2291.82it/s]\n"
     ]
    }
   ],
   "source": [
    "train_images = load_images_from_dir(\"train\", train_labels)\n",
    "test_images = load_images_from_dir(\"test\", test_labels)\n",
    "validation_images = load_images_from_dir(\"validation\", validation_labels)"
   ]
  },
  {
   "cell_type": "code",
   "execution_count": null,
   "id": "433a6ed6-cfd3-45fb-b5bf-a7c9d189af86",
   "metadata": {
    "tags": []
   },
   "outputs": [],
   "source": [
    "train_images = normalize_data(train_images,type='l1')\n",
    "test_images = normalize_data(test_images, type='l1')\n",
    "validation_images = normalize_data(validation_images, type='l1')"
   ]
  },
  {
   "cell_type": "code",
   "execution_count": null,
   "id": "1e6fb2da-2ad1-4ee6-91e9-6f511cdbf33f",
   "metadata": {
    "tags": []
   },
   "outputs": [],
   "source": [
    "print(train_images[2].shape)"
   ]
  },
  {
   "cell_type": "code",
   "execution_count": null,
   "id": "d1900879-14e4-4fbf-9b0d-549e9c524589",
   "metadata": {
    "tags": []
   },
   "outputs": [],
   "source": [
    "show_image(np.reshape(train_images[120], (80, 80, 3))) #279 e interesant\n",
    "print(max(validation_images[279]))"
   ]
  },
  {
   "cell_type": "code",
   "execution_count": null,
   "id": "c495d6ff-3676-41ec-9572-7712994a1dcd",
   "metadata": {
    "tags": []
   },
   "outputs": [],
   "source": [
    "#incercam un model simplu doar asa ca exemplu\n",
    "model = SVC(C=2.5)\n",
    "model.fit(train_images, train_labels.iloc[:, 1])\n",
    "predictions = model.predict(validation_images)\n",
    "scor = accuracy_score(validation_labels.iloc[:, 1], predictions)\n",
    "scor"
   ]
  },
  {
   "cell_type": "code",
   "execution_count": 60,
   "id": "72f699eb-5607-47ea-a9c8-38b2a519191e",
   "metadata": {
    "tags": []
   },
   "outputs": [
    {
     "name": "stderr",
     "output_type": "stream",
     "text": [
      "C:\\Users\\Fabi\\anaconda3\\Lib\\site-packages\\sklearn\\neural_network\\_multilayer_perceptron.py:691: ConvergenceWarning: Stochastic Optimizer: Maximum iterations (200) reached and the optimization hasn't converged yet.\n",
      "  warnings.warn(\n"
     ]
    },
    {
     "data": {
      "text/plain": [
       "0.516"
      ]
     },
     "execution_count": 60,
     "metadata": {},
     "output_type": "execute_result"
    }
   ],
   "source": [
    "model1 = MLPClassifier(hidden_layer_sizes = 200)\n",
    "model1.fit(train_images, train_labels.iloc[:, 1])\n",
    "predictions = model.predict(validation_images)\n",
    "scor = accuracy_score(validation_labels.iloc[:, 1], predictions)\n",
    "scor"
   ]
  },
  {
   "cell_type": "code",
   "execution_count": 65,
   "id": "3a6ebf25-3a30-4f6d-8ab6-38542d07f156",
   "metadata": {
    "tags": []
   },
   "outputs": [
    {
     "ename": "NameError",
     "evalue": "name 'XGBClassifier' is not defined",
     "output_type": "error",
     "traceback": [
      "\u001b[1;31m---------------------------------------------------------------------------\u001b[0m",
      "\u001b[1;31mNameError\u001b[0m                                 Traceback (most recent call last)",
      "Cell \u001b[1;32mIn[65], line 1\u001b[0m\n\u001b[1;32m----> 1\u001b[0m model2 \u001b[38;5;241m=\u001b[39m XGBClassifier()\n\u001b[0;32m      2\u001b[0m model2\u001b[38;5;241m.\u001b[39mfit(train_images, train_labels\u001b[38;5;241m.\u001b[39miloc[:, \u001b[38;5;241m1\u001b[39m])\n\u001b[0;32m      3\u001b[0m predictions \u001b[38;5;241m=\u001b[39m model2\u001b[38;5;241m.\u001b[39mpredict(validation_images)\n",
      "\u001b[1;31mNameError\u001b[0m: name 'XGBClassifier' is not defined"
     ]
    }
   ],
   "source": [
    "model2 = XGBClassifier()\n",
    "model2.fit(train_images, train_labels.iloc[:, 1])\n",
    "predictions = model2.predict(validation_images)\n",
    "scor = accuracy_score(validation_labels.iloc[:, 1], predictions)\n",
    "scor"
   ]
  },
  {
   "cell_type": "code",
   "execution_count": 35,
   "id": "a8648f6d-5511-4905-a3e1-e647cdcf692c",
   "metadata": {
    "tags": []
   },
   "outputs": [],
   "source": [
    "predictii_test = model.predict(test_images)\n",
    "raspuns = pd.Series(data=predictii_test, index=test_labels.iloc[:, 0], name=\"label\")\n",
    "raspuns.to_csv(\"raspuns.csv\")"
   ]
  }
 ],
 "metadata": {
  "kernelspec": {
   "display_name": "Python 3 (ipykernel)",
   "language": "python",
   "name": "python3"
  },
  "language_info": {
   "codemirror_mode": {
    "name": "ipython",
    "version": 3
   },
   "file_extension": ".py",
   "mimetype": "text/x-python",
   "name": "python",
   "nbconvert_exporter": "python",
   "pygments_lexer": "ipython3",
   "version": "3.11.5"
  }
 },
 "nbformat": 4,
 "nbformat_minor": 5
}
