{
 "cells": [
  {
   "cell_type": "code",
   "execution_count": 2,
   "id": "b41f55a4-71ff-48fa-8965-d03840eb435b",
   "metadata": {},
   "outputs": [
    {
     "data": {
      "text/html": [
       "\n",
       "<div id=\"video-container\">\n",
       "  <video id=\"video\" width=\"960\" height=\"540\" controls autoplay muted></video>\n",
       "</div>\n",
       "<script src=\"https://cdn.jsdelivr.net/npm/hls.js@latest\"></script>\n",
       "<script>\n",
       "  var video = document.getElementById('video');\n",
       "  if (Hls.isSupported()) {\n",
       "    var hls = new Hls();\n",
       "    hls.loadSource('https://p.webcamromania.ro/piataromanab/tracks-v1/mono.m3u8');\n",
       "    hls.attachMedia(video);\n",
       "    hls.on(Hls.Events.MANIFEST_PARSED,function() {\n",
       "      video.play();\n",
       "    });\n",
       "  }\n",
       "</script>\n"
      ],
      "text/plain": [
       "<IPython.core.display.HTML object>"
      ]
     },
     "execution_count": 2,
     "metadata": {},
     "output_type": "execute_result"
    }
   ],
   "source": [
    "from IPython.display import HTML\n",
    "\n",
    "HTML(\"\"\"\n",
    "<div id=\"video-container\">\n",
    "  <video id=\"video\" width=\"960\" height=\"540\" controls autoplay muted></video>\n",
    "</div>\n",
    "<script src=\"https://cdn.jsdelivr.net/npm/hls.js@latest\"></script>\n",
    "<script>\n",
    "  var video = document.getElementById('video');\n",
    "  if (Hls.isSupported()) {\n",
    "    var hls = new Hls();\n",
    "    hls.loadSource('https://p.webcamromania.ro/piataromanab/tracks-v1/mono.m3u8');\n",
    "    hls.attachMedia(video);\n",
    "    hls.on(Hls.Events.MANIFEST_PARSED,function() {\n",
    "      video.play();\n",
    "    });\n",
    "  }\n",
    "</script>\n",
    "\"\"\")\n"
   ]
  }
 ],
 "metadata": {
  "kernelspec": {
   "display_name": "Python 3 (ipykernel)",
   "language": "python",
   "name": "python3"
  },
  "language_info": {
   "codemirror_mode": {
    "name": "ipython",
    "version": 3
   },
   "file_extension": ".py",
   "mimetype": "text/x-python",
   "name": "python",
   "nbconvert_exporter": "python",
   "pygments_lexer": "ipython3",
   "version": "3.9.20"
  }
 },
 "nbformat": 4,
 "nbformat_minor": 5
}
