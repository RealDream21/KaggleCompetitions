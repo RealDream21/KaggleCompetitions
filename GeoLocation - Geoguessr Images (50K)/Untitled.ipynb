{
 "cells": [
  {
   "cell_type": "code",
   "execution_count": 6,
   "id": "3da78476-7c10-4c88-b633-8deb4ce469b6",
   "metadata": {},
   "outputs": [],
   "source": [
    "from ultralytics import YOLO\n",
    "model = YOLO('yolo11n-cls.pt')"
   ]
  },
  {
   "cell_type": "code",
   "execution_count": null,
   "id": "0b832432-86d5-470f-b917-a57a88741a4b",
   "metadata": {},
   "outputs": [
    {
     "name": "stdout",
     "output_type": "stream",
     "text": [
      "Ultralytics 8.3.149  Python-3.9.20 torch-2.6.0+cu118 CUDA:0 (NVIDIA GeForce RTX 3070, 8191MiB)\n",
      "\u001b[34m\u001b[1mengine\\trainer: \u001b[0magnostic_nms=False, amp=True, augment=False, auto_augment=randaugment, batch=16, bgr=0.0, box=7.5, cache=False, cfg=None, classes=None, close_mosaic=10, cls=0.5, conf=None, copy_paste=0.0, copy_paste_mode=flip, cos_lr=False, cutmix=0.0, data=dataset, degrees=0.0, deterministic=True, device=None, dfl=1.5, dnn=False, dropout=0.0, dynamic=False, embed=None, epochs=100, erasing=0.4, exist_ok=False, fliplr=0.5, flipud=0.0, format=torchscript, fraction=1.0, freeze=None, half=False, hsv_h=0.015, hsv_s=0.7, hsv_v=0.4, imgsz=640, int8=False, iou=0.7, keras=False, kobj=1.0, line_width=None, lr0=0.01, lrf=0.01, mask_ratio=4, max_det=300, mixup=0.0, mode=train, model=yolo11n-cls.pt, momentum=0.937, mosaic=1.0, multi_scale=False, name=train5, nbs=64, nms=False, opset=None, optimize=False, optimizer=auto, overlap_mask=True, patience=100, perspective=0.0, plots=True, pose=12.0, pretrained=True, profile=False, project=None, rect=False, resume=False, retina_masks=False, save=True, save_conf=False, save_crop=False, save_dir=runs\\classify\\train5, save_frames=False, save_json=False, save_period=-1, save_txt=False, scale=0.5, seed=0, shear=0.0, show=False, show_boxes=True, show_conf=True, show_labels=True, simplify=True, single_cls=False, source=None, split=val, stream_buffer=False, task=classify, time=None, tracker=botsort.yaml, translate=0.1, val=True, verbose=True, vid_stride=1, visualize=False, warmup_bias_lr=0.1, warmup_epochs=3.0, warmup_momentum=0.8, weight_decay=0.0005, workers=8, workspace=None\n",
      "\u001b[34m\u001b[1mtrain:\u001b[0m C:\\Users\\Fabi\\Desktop\\KaggleCompetitions\\GeoLocation - Geoguessr Images (50K)\\dataset\\train... found 49340 images in 6 classes  \n",
      "\u001b[34m\u001b[1mval:\u001b[0m C:\\Users\\Fabi\\Desktop\\KaggleCompetitions\\GeoLocation - Geoguessr Images (50K)\\dataset\\val... found 600 images in 6 classes  \n",
      "\u001b[34m\u001b[1mtest:\u001b[0m None...\n",
      "Overriding model.yaml nc=80 with nc=6\n",
      "\n",
      "                   from  n    params  module                                       arguments                     \n",
      "  0                  -1  1       464  ultralytics.nn.modules.conv.Conv             [3, 16, 3, 2]                 \n",
      "  1                  -1  1      4672  ultralytics.nn.modules.conv.Conv             [16, 32, 3, 2]                \n",
      "  2                  -1  1      6640  ultralytics.nn.modules.block.C3k2            [32, 64, 1, False, 0.25]      \n",
      "  3                  -1  1     36992  ultralytics.nn.modules.conv.Conv             [64, 64, 3, 2]                \n",
      "  4                  -1  1     26080  ultralytics.nn.modules.block.C3k2            [64, 128, 1, False, 0.25]     \n",
      "  5                  -1  1    147712  ultralytics.nn.modules.conv.Conv             [128, 128, 3, 2]              \n",
      "  6                  -1  1     87040  ultralytics.nn.modules.block.C3k2            [128, 128, 1, True]           \n",
      "  7                  -1  1    295424  ultralytics.nn.modules.conv.Conv             [128, 256, 3, 2]              \n",
      "  8                  -1  1    346112  ultralytics.nn.modules.block.C3k2            [256, 256, 1, True]           \n",
      "  9                  -1  1    249728  ultralytics.nn.modules.block.C2PSA           [256, 256, 1]                 \n",
      " 10                  -1  1    337926  ultralytics.nn.modules.head.Classify         [256, 6]                      \n",
      "YOLO11n-cls summary: 86 layers, 1,538,790 parameters, 1,538,790 gradients, 3.3 GFLOPs\n",
      "Transferred 234/236 items from pretrained weights\n"
     ]
    },
    {
     "name": "stderr",
     "output_type": "stream",
     "text": [
      "\u001b[1;38;5;214mCOMET WARNING:\u001b[0m To get all data logged automatically, import comet_ml before the following modules: torch.\n",
      "\u001b[1;38;5;214mCOMET WARNING:\u001b[0m As you are running in a Jupyter environment, you will need to call `experiment.end()` when finished to ensure all metrics and code are logged before exiting.\n",
      "\u001b[1;38;5;39mCOMET INFO:\u001b[0m Experiment is live on comet.com https://www.comet.com/realdream21/general/190b165db839475185aca00b0c30fe80\n",
      "\n"
     ]
    },
    {
     "name": "stdout",
     "output_type": "stream",
     "text": [
      "\u001b[34m\u001b[1mAMP: \u001b[0mrunning Automatic Mixed Precision (AMP) checks...\n",
      "\u001b[34m\u001b[1mAMP: \u001b[0mchecks passed \n",
      "\u001b[34m\u001b[1mtrain: \u001b[0mFast image access  (ping: 0.10.0 ms, read: 357.4444.3 MB/s, size: 112.0 KB)\n"
     ]
    },
    {
     "name": "stderr",
     "output_type": "stream",
     "text": [
      "\u001b[1;38;5;214mCOMET WARNING:\u001b[0m Unknown error exporting current conda environment\n",
      "\u001b[1;38;5;214mCOMET WARNING:\u001b[0m Unknown error retrieving Conda package as an explicit file\n",
      "\u001b[1;38;5;214mCOMET WARNING:\u001b[0m Unknown error retrieving Conda information\n",
      "\u001b[34m\u001b[1mtrain: \u001b[0mScanning C:\\Users\\Fabi\\Desktop\\KaggleCompetitions\\GeoLocation - Geoguessr Images (50K)\\dataset\\train... 49340 im\u001b[0m\n"
     ]
    },
    {
     "name": "stdout",
     "output_type": "stream",
     "text": [
      "\u001b[34m\u001b[1mval: \u001b[0mFast image access  (ping: 0.20.1 ms, read: 465.9185.2 MB/s, size: 123.7 KB)\n"
     ]
    },
    {
     "name": "stderr",
     "output_type": "stream",
     "text": [
      "\u001b[34m\u001b[1mval: \u001b[0mScanning C:\\Users\\Fabi\\Desktop\\KaggleCompetitions\\GeoLocation - Geoguessr Images (50K)\\dataset\\val... 600 images, \u001b[0m\n"
     ]
    }
   ],
   "source": [
    "results = model.train(data='dataset', epochs=100, imgsz=640)"
   ]
  },
  {
   "cell_type": "code",
   "execution_count": 1,
   "id": "f81f8097-cb45-454c-bd66-388d6098e032",
   "metadata": {},
   "outputs": [],
   "source": [
    "from ultralytics import YOLO"
   ]
  },
  {
   "cell_type": "code",
   "execution_count": 2,
   "id": "9699f8cb-9156-4274-a9cd-65254b3b29d9",
   "metadata": {},
   "outputs": [],
   "source": [
    "model = YOLO('runs/classify/train4/weights/best.pt')"
   ]
  },
  {
   "cell_type": "code",
   "execution_count": 5,
   "id": "74b1c33b-18d7-4042-897b-54be129b1c8b",
   "metadata": {},
   "outputs": [
    {
     "name": "stdout",
     "output_type": "stream",
     "text": [
      "\n",
      "image 1/1 C:\\Users\\Fabi\\Desktop\\KaggleCompetitions\\GeoLocation - Geoguessr Images (50K)\\rsz_11untitled.png: 512x512 Asia 0.82, South America 0.06, Africa 0.06, North America 0.03, Europe 0.03, 25.0ms\n",
      "Speed: 14.4ms preprocess, 25.0ms inference, 0.0ms postprocess per image at shape (1, 3, 512, 512)\n"
     ]
    },
    {
     "data": {
      "text/plain": [
       "[ultralytics.engine.results.Results object with attributes:\n",
       " \n",
       " boxes: None\n",
       " keypoints: None\n",
       " masks: None\n",
       " names: {0: 'Africa', 1: 'Asia', 2: 'Europe', 3: 'North America', 4: 'Oceania', 5: 'South America'}\n",
       " obb: None\n",
       " orig_img: array([[[120, 118, 108],\n",
       "         [120, 118, 109],\n",
       "         [120, 118, 108],\n",
       "         ...,\n",
       "         [ 19,  18,  20],\n",
       "         [ 19,  18,  20],\n",
       "         [ 19,  18,  20]],\n",
       " \n",
       "        [[120, 118, 108],\n",
       "         [122, 120, 109],\n",
       "         [123, 121, 111],\n",
       "         ...,\n",
       "         [ 18,  17,  19],\n",
       "         [ 18,  17,  19],\n",
       "         [ 18,  17,  19]],\n",
       " \n",
       "        [[120, 118, 109],\n",
       "         [122, 120, 110],\n",
       "         [123, 121, 111],\n",
       "         ...,\n",
       "         [ 19,  18,  20],\n",
       "         [ 19,  18,  20],\n",
       "         [ 19,  18,  20]],\n",
       " \n",
       "        ...,\n",
       " \n",
       "        [[ 90, 100, 110],\n",
       "         [ 86,  96, 107],\n",
       "         [ 79,  89, 102],\n",
       "         ...,\n",
       "         [ 35,  40,  45],\n",
       "         [ 37,  42,  47],\n",
       "         [ 36,  41,  46]],\n",
       " \n",
       "        [[ 43,  47,  51],\n",
       "         [ 41,  44,  49],\n",
       "         [ 37,  40,  45],\n",
       "         ...,\n",
       "         [ 31,  32,  34],\n",
       "         [ 22,  24,  26],\n",
       "         [ 23,  25,  27]],\n",
       " \n",
       "        [[ 10,   9,   8],\n",
       "         [ 10,  10,   9],\n",
       "         [ 11,  10,   9],\n",
       "         ...,\n",
       "         [ 27,  26,  26],\n",
       "         [ 11,  10,  10],\n",
       "         [ 14,  14,  13]]], dtype=uint8)\n",
       " orig_shape: (662, 1536)\n",
       " path: 'C:\\\\Users\\\\Fabi\\\\Desktop\\\\KaggleCompetitions\\\\GeoLocation - Geoguessr Images (50K)\\\\rsz_11untitled.png'\n",
       " probs: ultralytics.engine.results.Probs object\n",
       " save_dir: 'runs\\\\classify\\\\predict'\n",
       " speed: {'preprocess': 14.385800001036841, 'inference': 24.96229999815114, 'postprocess': 0.039599999581696466}]"
      ]
     },
     "execution_count": 5,
     "metadata": {},
     "output_type": "execute_result"
    }
   ],
   "source": [
    "model.predict('rsz_11untitled.png')"
   ]
  }
 ],
 "metadata": {
  "kernelspec": {
   "display_name": "Python 3 (ipykernel)",
   "language": "python",
   "name": "python3"
  },
  "language_info": {
   "codemirror_mode": {
    "name": "ipython",
    "version": 3
   },
   "file_extension": ".py",
   "mimetype": "text/x-python",
   "name": "python",
   "nbconvert_exporter": "python",
   "pygments_lexer": "ipython3",
   "version": "3.9.20"
  }
 },
 "nbformat": 4,
 "nbformat_minor": 5
}
