{
 "cells": [
  {
   "cell_type": "code",
   "execution_count": 95,
   "id": "cdddcf2e-a3cf-47d0-a31e-728198153ccf",
   "metadata": {},
   "outputs": [],
   "source": [
    "import pandas as pd\n",
    "import datetime\n",
    "import sklearn\n",
    "import xgboost\n",
    "import numpy as np"
   ]
  },
  {
   "cell_type": "code",
   "execution_count": 83,
   "id": "673b2884-a0e7-446a-bc93-01f419598614",
   "metadata": {},
   "outputs": [],
   "source": [
    "holidays_df = pd.read_csv('holidays_events.csv')\n",
    "oil_df = pd.read_csv('oil.csv')\n",
    "stores_df = pd.read_csv('stores.csv')\n",
    "test_df = pd.read_csv('test.csv')\n",
    "train_df = pd.read_csv('train.csv')\n",
    "transactions_df = pd.read_csv('transactions.csv')"
   ]
  },
  {
   "cell_type": "code",
   "execution_count": 84,
   "id": "325d411a-8c14-4342-9ac2-a4c96ec2da83",
   "metadata": {},
   "outputs": [],
   "source": [
    "joined_df = train_df.merge(holidays_df, on='date', how='left')\n",
    "joined_df = joined_df.merge(oil_df, on='date', how='left')\n",
    "joined_df = joined_df.merge(stores_df, on = 'store_nbr', how='left')\n",
    "# joined_df = joined_df.merge(transactions_df, on=['store_nbr', 'date'], how='left')\n",
    "joined_df = joined_df.set_index('id')"
   ]
  },
  {
   "cell_type": "code",
   "execution_count": 85,
   "id": "0ba41a63-2130-46c9-9d74-5a35968c216b",
   "metadata": {},
   "outputs": [],
   "source": [
    "joined_test_df = test_df.merge(holidays_df, on='date', how='left')\n",
    "joined_test_df = joined_test_df.merge(oil_df, on='date', how='left')\n",
    "joined_test_df = joined_test_df.merge(stores_df, on = 'store_nbr', how='left')\n",
    "# joined_test_df = joined_test_df.merge(transactions_df, on=['store_nbr', 'date'], how='left')\n",
    "joined_test_df = joined_test_df.set_index('id')"
   ]
  },
  {
   "cell_type": "code",
   "execution_count": 86,
   "id": "a7b0724d-98ab-4316-ac98-52874c190872",
   "metadata": {},
   "outputs": [],
   "source": [
    "def map_holidays_test(holiday):\n",
    "    if not pd.notnull(holiday):\n",
    "        return 'Work Day'\n",
    "    return holiday\n",
    "\n",
    "def map_locale_holidays(locale):\n",
    "    if not pd.notnull(locale):\n",
    "        return 'Work Day'\n",
    "    return locale"
   ]
  },
  {
   "cell_type": "code",
   "execution_count": 87,
   "id": "965b9468-8265-4b45-9bd4-bbbb90d1b457",
   "metadata": {},
   "outputs": [],
   "source": [
    "joined_df['type_x'] = joined_df['type_x'].map(lambda t: map_holidays_test(t))\n",
    "joined_df['locale'] = joined_df['locale'].map(lambda t: map_locale_holidays(t))"
   ]
  },
  {
   "cell_type": "code",
   "execution_count": 88,
   "id": "41dd82ac-0ee2-4942-af3e-d23f793aeff4",
   "metadata": {},
   "outputs": [],
   "source": [
    "joined_test_df['type_x'] = joined_test_df['type_x'].map(lambda t: map_holidays_test(t))\n",
    "joined_test_df['locale'] = joined_test_df['locale'].map(lambda t: map_locale_holidays(t))"
   ]
  },
  {
   "cell_type": "code",
   "execution_count": 89,
   "id": "75eb1a13-a4b3-4133-98ef-68bcb72a56cc",
   "metadata": {},
   "outputs": [],
   "source": [
    "dropped_columns = ['locale_name', 'description', 'transferred'] #transferred might be useful \n",
    "joined_df = joined_df.drop(columns=dropped_columns)\n",
    "joined_test_df = joined_test_df.drop(columns=dropped_columns)"
   ]
  },
  {
   "cell_type": "code",
   "execution_count": 96,
   "id": "b2d6af1f-372f-4080-ba5e-620caa8dbae1",
   "metadata": {},
   "outputs": [],
   "source": [
    "def add_temporal_features(df):\n",
    "    df['year'] = df['date'].dt.year\n",
    "    df['month'] = df['date'].dt.month\n",
    "    df['week'] = df['date'].dt.isocalendar().week\n",
    "    df['quarter'] = df['date'].dt.quarter\n",
    "    df['day_of_week'] = df['date'].dt.day_name()\n",
    "    df['day_of_month'] = df['date'].dt.day\n",
    "    df['day_of_year'] = df['date'].dt.dayofyear\n",
    "    df['is_weekend'] = (df['day_of_week'].isin(['Saturday', 'Sunday'])).astype(int)\n",
    "    df['is_month_start'] = df['date'].dt.is_month_start.astype(int)\n",
    "    df['is_month_end'] = df['date'].dt.is_month_end.astype(int)\n",
    "    df['dayofweek'] = df['date'].dt.dayofweek\n",
    "    \n",
    "    # Cyclical encoding for temporal features\n",
    "    df['day_sin'] = np.sin(2 * np.pi * df['day_of_year']/365)\n",
    "    df['day_cos'] = np.cos(2 * np.pi * df['day_of_year']/365)\n",
    "    df['month_sin'] = np.sin(2 * np.pi * df['month']/12)\n",
    "    df['month_cos'] = np.cos(2 * np.pi * df['month']/12)\n",
    "    \n",
    "    return df"
   ]
  },
  {
   "cell_type": "code",
   "execution_count": null,
   "id": "dc1619bf-cb84-4a41-87b1-efd9064d708e",
   "metadata": {},
   "outputs": [],
   "source": []
  },
  {
   "cell_type": "code",
   "execution_count": 97,
   "id": "4fae9d7f-77e7-4544-ae1d-29b85fb812b2",
   "metadata": {},
   "outputs": [],
   "source": [
    "class DateFormater():\n",
    "    @staticmethod\n",
    "    def day(d):\n",
    "        year, month, day = [int(x) for x in d.split('-')]\n",
    "        date = datetime.datetime(year, month, day)\n",
    "        return date.strftime('%a') \n",
    "\n",
    "    @staticmethod\n",
    "    def month(d):\n",
    "        year, month, day = [int(x) for x in d.split('-')]\n",
    "        date = datetime.datetime(year, month, day)\n",
    "        return date.strftime('%B')"
   ]
  },
  {
   "cell_type": "code",
   "execution_count": 98,
   "id": "9cfd7744-eb3b-480f-9176-e0d367c97ac1",
   "metadata": {},
   "outputs": [],
   "source": [
    "# joined_df['day_of_week'] = joined_df['date'].map(lambda d: DateFormater.day(d))\n",
    "# joined_df['month'] = joined_df['date'].map(lambda d: DateFormater.month(d))\n",
    "\n",
    "# joined_test_df['day_of_week'] = joined_test_df['date'].map(lambda d: DateFormater.day(d))\n",
    "# joined_test_df['month'] = joined_test_df['date'].map(lambda d: DateFormater.month(d))"
   ]
  },
  {
   "cell_type": "code",
   "execution_count": 99,
   "id": "958cd4bb-8c35-40f0-a38e-1f028a3cefa8",
   "metadata": {},
   "outputs": [],
   "source": [
    "joined_df['date'] = pd.to_datetime(joined_df['date'])\n",
    "joined_test_df['date'] = pd.to_datetime(joined_test_df['date'])"
   ]
  },
  {
   "cell_type": "code",
   "execution_count": 100,
   "id": "f84be90d-8412-45cd-b5b0-583e186eecac",
   "metadata": {},
   "outputs": [],
   "source": [
    "joined_df = add_temporal_features(joined_df)\n",
    "joined_test_df = add_temporal_features(joined_test_df)"
   ]
  },
  {
   "cell_type": "code",
   "execution_count": 101,
   "id": "8113149d",
   "metadata": {},
   "outputs": [],
   "source": [
    "joined_df['dcoilwtico'] = joined_df['dcoilwtico'].interpolate(method='linear')\n",
    "joined_test_df['dcoilwtico'] = joined_test_df['dcoilwtico'].interpolate(method='linear')"
   ]
  },
  {
   "cell_type": "code",
   "execution_count": 102,
   "id": "655fe458",
   "metadata": {},
   "outputs": [
    {
     "name": "stderr",
     "output_type": "stream",
     "text": [
      "C:\\Users\\Fabi\\AppData\\Local\\Temp\\ipykernel_10356\\1719069923.py:1: FutureWarning: ChainedAssignmentError: behaviour will change in pandas 3.0!\n",
      "You are setting values through chained assignment. Currently this works in certain cases, but when using Copy-on-Write (which will become the default behaviour in pandas 3.0) this will never work to update the original DataFrame or Series, because the intermediate object on which we are setting values will behave as a copy.\n",
      "A typical example is when you are setting values in a column of a DataFrame, like:\n",
      "\n",
      "df[\"col\"][row_indexer] = value\n",
      "\n",
      "Use `df.loc[row_indexer, \"col\"] = values` instead, to perform the assignment in a single step and ensure this keeps updating the original `df`.\n",
      "\n",
      "See the caveats in the documentation: https://pandas.pydata.org/pandas-docs/stable/user_guide/indexing.html#returning-a-view-versus-a-copy\n",
      "\n",
      "  joined_df['dcoilwtico'].loc[0:joined_df.dcoilwtico.first_valid_index()] = joined_df.loc[joined_df.dcoilwtico.first_valid_index()]['dcoilwtico']\n",
      "C:\\Users\\Fabi\\AppData\\Local\\Temp\\ipykernel_10356\\1719069923.py:1: SettingWithCopyWarning: \n",
      "A value is trying to be set on a copy of a slice from a DataFrame\n",
      "\n",
      "See the caveats in the documentation: https://pandas.pydata.org/pandas-docs/stable/user_guide/indexing.html#returning-a-view-versus-a-copy\n",
      "  joined_df['dcoilwtico'].loc[0:joined_df.dcoilwtico.first_valid_index()] = joined_df.loc[joined_df.dcoilwtico.first_valid_index()]['dcoilwtico']\n",
      "C:\\Users\\Fabi\\AppData\\Local\\Temp\\ipykernel_10356\\1719069923.py:2: FutureWarning: ChainedAssignmentError: behaviour will change in pandas 3.0!\n",
      "You are setting values through chained assignment. Currently this works in certain cases, but when using Copy-on-Write (which will become the default behaviour in pandas 3.0) this will never work to update the original DataFrame or Series, because the intermediate object on which we are setting values will behave as a copy.\n",
      "A typical example is when you are setting values in a column of a DataFrame, like:\n",
      "\n",
      "df[\"col\"][row_indexer] = value\n",
      "\n",
      "Use `df.loc[row_indexer, \"col\"] = values` instead, to perform the assignment in a single step and ensure this keeps updating the original `df`.\n",
      "\n",
      "See the caveats in the documentation: https://pandas.pydata.org/pandas-docs/stable/user_guide/indexing.html#returning-a-view-versus-a-copy\n",
      "\n",
      "  joined_test_df['dcoilwtico'].loc[0:joined_test_df.dcoilwtico.first_valid_index()] = joined_test_df.loc[joined_test_df.dcoilwtico.first_valid_index()]['dcoilwtico']\n",
      "C:\\Users\\Fabi\\AppData\\Local\\Temp\\ipykernel_10356\\1719069923.py:2: SettingWithCopyWarning: \n",
      "A value is trying to be set on a copy of a slice from a DataFrame\n",
      "\n",
      "See the caveats in the documentation: https://pandas.pydata.org/pandas-docs/stable/user_guide/indexing.html#returning-a-view-versus-a-copy\n",
      "  joined_test_df['dcoilwtico'].loc[0:joined_test_df.dcoilwtico.first_valid_index()] = joined_test_df.loc[joined_test_df.dcoilwtico.first_valid_index()]['dcoilwtico']\n"
     ]
    }
   ],
   "source": [
    "joined_df['dcoilwtico'].loc[0:joined_df.dcoilwtico.first_valid_index()] = joined_df.loc[joined_df.dcoilwtico.first_valid_index()]['dcoilwtico']\n",
    "joined_test_df['dcoilwtico'].loc[0:joined_test_df.dcoilwtico.first_valid_index()] = joined_test_df.loc[joined_test_df.dcoilwtico.first_valid_index()]['dcoilwtico']"
   ]
  },
  {
   "cell_type": "code",
   "execution_count": 103,
   "id": "d66908cf-6a15-4269-9a4e-083eb83b5944",
   "metadata": {},
   "outputs": [],
   "source": [
    "joined_df = joined_df.drop(columns=['date'])\n",
    "joined_test_df = joined_test_df.drop(columns=['date'])"
   ]
  },
  {
   "cell_type": "code",
   "execution_count": 104,
   "id": "b20f19d9",
   "metadata": {},
   "outputs": [],
   "source": [
    "y = joined_df['sales']\n",
    "X = joined_df.drop(columns=['sales'])"
   ]
  },
  {
   "cell_type": "code",
   "execution_count": 105,
   "id": "6b57e7d2",
   "metadata": {},
   "outputs": [
    {
     "data": {
      "text/html": [
       "<div>\n",
       "<style scoped>\n",
       "    .dataframe tbody tr th:only-of-type {\n",
       "        vertical-align: middle;\n",
       "    }\n",
       "\n",
       "    .dataframe tbody tr th {\n",
       "        vertical-align: top;\n",
       "    }\n",
       "\n",
       "    .dataframe thead th {\n",
       "        text-align: right;\n",
       "    }\n",
       "</style>\n",
       "<table border=\"1\" class=\"dataframe\">\n",
       "  <thead>\n",
       "    <tr style=\"text-align: right;\">\n",
       "      <th></th>\n",
       "      <th>store_nbr</th>\n",
       "      <th>family</th>\n",
       "      <th>onpromotion</th>\n",
       "      <th>type_x</th>\n",
       "      <th>locale</th>\n",
       "      <th>dcoilwtico</th>\n",
       "      <th>city</th>\n",
       "      <th>state</th>\n",
       "      <th>type_y</th>\n",
       "      <th>cluster</th>\n",
       "      <th>...</th>\n",
       "      <th>day_of_month</th>\n",
       "      <th>day_of_year</th>\n",
       "      <th>is_weekend</th>\n",
       "      <th>is_month_start</th>\n",
       "      <th>is_month_end</th>\n",
       "      <th>dayofweek</th>\n",
       "      <th>day_sin</th>\n",
       "      <th>day_cos</th>\n",
       "      <th>month_sin</th>\n",
       "      <th>month_cos</th>\n",
       "    </tr>\n",
       "    <tr>\n",
       "      <th>id</th>\n",
       "      <th></th>\n",
       "      <th></th>\n",
       "      <th></th>\n",
       "      <th></th>\n",
       "      <th></th>\n",
       "      <th></th>\n",
       "      <th></th>\n",
       "      <th></th>\n",
       "      <th></th>\n",
       "      <th></th>\n",
       "      <th></th>\n",
       "      <th></th>\n",
       "      <th></th>\n",
       "      <th></th>\n",
       "      <th></th>\n",
       "      <th></th>\n",
       "      <th></th>\n",
       "      <th></th>\n",
       "      <th></th>\n",
       "      <th></th>\n",
       "      <th></th>\n",
       "    </tr>\n",
       "  </thead>\n",
       "  <tbody>\n",
       "    <tr>\n",
       "      <th>0</th>\n",
       "      <td>1</td>\n",
       "      <td>AUTOMOTIVE</td>\n",
       "      <td>0</td>\n",
       "      <td>Holiday</td>\n",
       "      <td>National</td>\n",
       "      <td>93.14</td>\n",
       "      <td>Quito</td>\n",
       "      <td>Pichincha</td>\n",
       "      <td>D</td>\n",
       "      <td>13</td>\n",
       "      <td>...</td>\n",
       "      <td>1</td>\n",
       "      <td>1</td>\n",
       "      <td>0</td>\n",
       "      <td>1</td>\n",
       "      <td>0</td>\n",
       "      <td>1</td>\n",
       "      <td>0.017213</td>\n",
       "      <td>0.999852</td>\n",
       "      <td>0.5</td>\n",
       "      <td>0.866025</td>\n",
       "    </tr>\n",
       "    <tr>\n",
       "      <th>1</th>\n",
       "      <td>1</td>\n",
       "      <td>BABY CARE</td>\n",
       "      <td>0</td>\n",
       "      <td>Holiday</td>\n",
       "      <td>National</td>\n",
       "      <td>93.14</td>\n",
       "      <td>Quito</td>\n",
       "      <td>Pichincha</td>\n",
       "      <td>D</td>\n",
       "      <td>13</td>\n",
       "      <td>...</td>\n",
       "      <td>1</td>\n",
       "      <td>1</td>\n",
       "      <td>0</td>\n",
       "      <td>1</td>\n",
       "      <td>0</td>\n",
       "      <td>1</td>\n",
       "      <td>0.017213</td>\n",
       "      <td>0.999852</td>\n",
       "      <td>0.5</td>\n",
       "      <td>0.866025</td>\n",
       "    </tr>\n",
       "    <tr>\n",
       "      <th>2</th>\n",
       "      <td>1</td>\n",
       "      <td>BEAUTY</td>\n",
       "      <td>0</td>\n",
       "      <td>Holiday</td>\n",
       "      <td>National</td>\n",
       "      <td>93.14</td>\n",
       "      <td>Quito</td>\n",
       "      <td>Pichincha</td>\n",
       "      <td>D</td>\n",
       "      <td>13</td>\n",
       "      <td>...</td>\n",
       "      <td>1</td>\n",
       "      <td>1</td>\n",
       "      <td>0</td>\n",
       "      <td>1</td>\n",
       "      <td>0</td>\n",
       "      <td>1</td>\n",
       "      <td>0.017213</td>\n",
       "      <td>0.999852</td>\n",
       "      <td>0.5</td>\n",
       "      <td>0.866025</td>\n",
       "    </tr>\n",
       "    <tr>\n",
       "      <th>3</th>\n",
       "      <td>1</td>\n",
       "      <td>BEVERAGES</td>\n",
       "      <td>0</td>\n",
       "      <td>Holiday</td>\n",
       "      <td>National</td>\n",
       "      <td>93.14</td>\n",
       "      <td>Quito</td>\n",
       "      <td>Pichincha</td>\n",
       "      <td>D</td>\n",
       "      <td>13</td>\n",
       "      <td>...</td>\n",
       "      <td>1</td>\n",
       "      <td>1</td>\n",
       "      <td>0</td>\n",
       "      <td>1</td>\n",
       "      <td>0</td>\n",
       "      <td>1</td>\n",
       "      <td>0.017213</td>\n",
       "      <td>0.999852</td>\n",
       "      <td>0.5</td>\n",
       "      <td>0.866025</td>\n",
       "    </tr>\n",
       "    <tr>\n",
       "      <th>4</th>\n",
       "      <td>1</td>\n",
       "      <td>BOOKS</td>\n",
       "      <td>0</td>\n",
       "      <td>Holiday</td>\n",
       "      <td>National</td>\n",
       "      <td>93.14</td>\n",
       "      <td>Quito</td>\n",
       "      <td>Pichincha</td>\n",
       "      <td>D</td>\n",
       "      <td>13</td>\n",
       "      <td>...</td>\n",
       "      <td>1</td>\n",
       "      <td>1</td>\n",
       "      <td>0</td>\n",
       "      <td>1</td>\n",
       "      <td>0</td>\n",
       "      <td>1</td>\n",
       "      <td>0.017213</td>\n",
       "      <td>0.999852</td>\n",
       "      <td>0.5</td>\n",
       "      <td>0.866025</td>\n",
       "    </tr>\n",
       "  </tbody>\n",
       "</table>\n",
       "<p>5 rows × 25 columns</p>\n",
       "</div>"
      ],
      "text/plain": [
       "    store_nbr      family  onpromotion   type_x    locale  dcoilwtico   city  \\\n",
       "id                                                                             \n",
       "0           1  AUTOMOTIVE            0  Holiday  National       93.14  Quito   \n",
       "1           1   BABY CARE            0  Holiday  National       93.14  Quito   \n",
       "2           1      BEAUTY            0  Holiday  National       93.14  Quito   \n",
       "3           1   BEVERAGES            0  Holiday  National       93.14  Quito   \n",
       "4           1       BOOKS            0  Holiday  National       93.14  Quito   \n",
       "\n",
       "        state type_y  cluster  ...  day_of_month  day_of_year  is_weekend  \\\n",
       "id                             ...                                          \n",
       "0   Pichincha      D       13  ...             1            1           0   \n",
       "1   Pichincha      D       13  ...             1            1           0   \n",
       "2   Pichincha      D       13  ...             1            1           0   \n",
       "3   Pichincha      D       13  ...             1            1           0   \n",
       "4   Pichincha      D       13  ...             1            1           0   \n",
       "\n",
       "    is_month_start is_month_end  dayofweek   day_sin   day_cos  month_sin  \\\n",
       "id                                                                          \n",
       "0                1            0          1  0.017213  0.999852        0.5   \n",
       "1                1            0          1  0.017213  0.999852        0.5   \n",
       "2                1            0          1  0.017213  0.999852        0.5   \n",
       "3                1            0          1  0.017213  0.999852        0.5   \n",
       "4                1            0          1  0.017213  0.999852        0.5   \n",
       "\n",
       "    month_cos  \n",
       "id             \n",
       "0    0.866025  \n",
       "1    0.866025  \n",
       "2    0.866025  \n",
       "3    0.866025  \n",
       "4    0.866025  \n",
       "\n",
       "[5 rows x 25 columns]"
      ]
     },
     "execution_count": 105,
     "metadata": {},
     "output_type": "execute_result"
    }
   ],
   "source": [
    "X.head()"
   ]
  },
  {
   "cell_type": "code",
   "execution_count": 106,
   "id": "ffd05edf-bb2e-4d4b-bda8-dbd2833ea1e8",
   "metadata": {},
   "outputs": [
    {
     "data": {
      "text/plain": [
       "store_nbr         3054348\n",
       "family            3054348\n",
       "onpromotion       3054348\n",
       "type_x            3054348\n",
       "locale            3054348\n",
       "dcoilwtico        3054348\n",
       "city              3054348\n",
       "state             3054348\n",
       "type_y            3054348\n",
       "cluster           3054348\n",
       "year              3054348\n",
       "month             3054348\n",
       "week              3054348\n",
       "quarter           3054348\n",
       "day_of_week       3054348\n",
       "day_of_month      3054348\n",
       "day_of_year       3054348\n",
       "is_weekend        3054348\n",
       "is_month_start    3054348\n",
       "is_month_end      3054348\n",
       "dayofweek         3054348\n",
       "day_sin           3054348\n",
       "day_cos           3054348\n",
       "month_sin         3054348\n",
       "month_cos         3054348\n",
       "dtype: int64"
      ]
     },
     "execution_count": 106,
     "metadata": {},
     "output_type": "execute_result"
    }
   ],
   "source": [
    "X.count()"
   ]
  },
  {
   "cell_type": "code",
   "execution_count": 115,
   "id": "e54ba788-00d5-420a-a45b-1bbfce241419",
   "metadata": {},
   "outputs": [],
   "source": [
    "num_columns = ['onpromotion', 'dcoilwtico', 'cluster']\n",
    "cat_columns = ['family', 'type_x', 'locale', 'city', 'state',\n",
    "               'type_y']"
   ]
  },
  {
   "cell_type": "code",
   "execution_count": 159,
   "id": "39d15724-09e4-4888-8501-666d10225ab1",
   "metadata": {},
   "outputs": [],
   "source": [
    "num_transformer = sklearn.pipeline.Pipeline(steps=[\n",
    "    (\"scaler\", sklearn.preprocessing.StandardScaler()),\n",
    "])\n",
    "\n",
    "cat_transformer = sklearn.pipeline.Pipeline(steps=[\n",
    "    (\"onehot\", sklearn.preprocessing.OneHotEncoder(sparse_output=False))\n",
    "])\n",
    "\n",
    "preprocessor = sklearn.compose.ColumnTransformer(transformers=[\n",
    "    (\"num\", num_transformer, num_columns),\n",
    "    (\"cat\", cat_transformer, cat_columns)\n",
    "])\n",
    "\n",
    "pipeline = sklearn.pipeline.Pipeline(steps=[\n",
    "    (\"preprocess\", preprocessor),\n",
    "    # (\"regressor\", xgboost.XGBRegressor(booster='dart'))\n",
    "    (\"regressor\", sklearn.neural_network.MLPRegressor())\n",
    "])\n"
   ]
  },
  {
   "cell_type": "code",
   "execution_count": null,
   "id": "1001a963-b1c5-45e1-b9f4-2b2232f91c47",
   "metadata": {},
   "outputs": [],
   "source": [
    "pipeline.fit(X, y)"
   ]
  },
  {
   "cell_type": "code",
   "execution_count": 129,
   "id": "10eff0c8-efba-4ebb-bc2b-9a0a29cc1fe9",
   "metadata": {},
   "outputs": [
    {
     "data": {
      "text/plain": [
       "array([-467.61623776, -526.20993902, -525.48715348, -559.89138713,\n",
       "       -540.52844775])"
      ]
     },
     "execution_count": 129,
     "metadata": {},
     "output_type": "execute_result"
    }
   ],
   "source": [
    "sklearn.model_selection.cross_val_score(pipeline, X, y, scoring='neg_root_mean_squared_error')"
   ]
  },
  {
   "cell_type": "code",
   "execution_count": 131,
   "id": "7624faa6-44d1-4d28-8c61-9aae1fdfa561",
   "metadata": {},
   "outputs": [],
   "source": [
    "preds = pipeline.predict(joined_test_df)"
   ]
  },
  {
   "cell_type": "code",
   "execution_count": 132,
   "id": "0d19d088-716e-4aac-857c-b7fa8afc7c76",
   "metadata": {},
   "outputs": [],
   "source": [
    "preds = [max(x, 0) for x in preds]"
   ]
  },
  {
   "cell_type": "code",
   "execution_count": 133,
   "id": "428b2fbe-ea59-433f-9b5f-04a58ec58c13",
   "metadata": {},
   "outputs": [],
   "source": [
    "ans_df = pd.DataFrame({\n",
    "    'id': [x + 3000888 for x in range(len(preds))],\n",
    "    'sales' : preds\n",
    "})"
   ]
  },
  {
   "cell_type": "code",
   "execution_count": 134,
   "id": "9d96473a-6d35-43f7-9292-7f66d11c487c",
   "metadata": {},
   "outputs": [
    {
     "data": {
      "text/html": [
       "<div>\n",
       "<style scoped>\n",
       "    .dataframe tbody tr th:only-of-type {\n",
       "        vertical-align: middle;\n",
       "    }\n",
       "\n",
       "    .dataframe tbody tr th {\n",
       "        vertical-align: top;\n",
       "    }\n",
       "\n",
       "    .dataframe thead th {\n",
       "        text-align: right;\n",
       "    }\n",
       "</style>\n",
       "<table border=\"1\" class=\"dataframe\">\n",
       "  <thead>\n",
       "    <tr style=\"text-align: right;\">\n",
       "      <th></th>\n",
       "      <th>sales</th>\n",
       "    </tr>\n",
       "    <tr>\n",
       "      <th>id</th>\n",
       "      <th></th>\n",
       "    </tr>\n",
       "  </thead>\n",
       "  <tbody>\n",
       "    <tr>\n",
       "      <th>3000888</th>\n",
       "      <td>0.000000</td>\n",
       "    </tr>\n",
       "    <tr>\n",
       "      <th>3000889</th>\n",
       "      <td>0.000000</td>\n",
       "    </tr>\n",
       "    <tr>\n",
       "      <th>3000890</th>\n",
       "      <td>9.652735</td>\n",
       "    </tr>\n",
       "    <tr>\n",
       "      <th>3000891</th>\n",
       "      <td>2949.263672</td>\n",
       "    </tr>\n",
       "    <tr>\n",
       "      <th>3000892</th>\n",
       "      <td>0.000000</td>\n",
       "    </tr>\n",
       "    <tr>\n",
       "      <th>...</th>\n",
       "      <td>...</td>\n",
       "    </tr>\n",
       "    <tr>\n",
       "      <th>3029395</th>\n",
       "      <td>444.361298</td>\n",
       "    </tr>\n",
       "    <tr>\n",
       "      <th>3029396</th>\n",
       "      <td>70.401016</td>\n",
       "    </tr>\n",
       "    <tr>\n",
       "      <th>3029397</th>\n",
       "      <td>1266.349487</td>\n",
       "    </tr>\n",
       "    <tr>\n",
       "      <th>3029398</th>\n",
       "      <td>163.285080</td>\n",
       "    </tr>\n",
       "    <tr>\n",
       "      <th>3029399</th>\n",
       "      <td>0.000000</td>\n",
       "    </tr>\n",
       "  </tbody>\n",
       "</table>\n",
       "<p>28512 rows × 1 columns</p>\n",
       "</div>"
      ],
      "text/plain": [
       "               sales\n",
       "id                  \n",
       "3000888     0.000000\n",
       "3000889     0.000000\n",
       "3000890     9.652735\n",
       "3000891  2949.263672\n",
       "3000892     0.000000\n",
       "...              ...\n",
       "3029395   444.361298\n",
       "3029396    70.401016\n",
       "3029397  1266.349487\n",
       "3029398   163.285080\n",
       "3029399     0.000000\n",
       "\n",
       "[28512 rows x 1 columns]"
      ]
     },
     "execution_count": 134,
     "metadata": {},
     "output_type": "execute_result"
    }
   ],
   "source": [
    "ans_df.set_index('id')"
   ]
  },
  {
   "cell_type": "code",
   "execution_count": 135,
   "id": "55dbf4f0-414a-434c-8fe1-4b4097fbc80f",
   "metadata": {},
   "outputs": [],
   "source": [
    "ans_df.to_csv('ans.csv', index=False)"
   ]
  }
 ],
 "metadata": {
  "kernelspec": {
   "display_name": "Python 3 (ipykernel)",
   "language": "python",
   "name": "python3"
  },
  "language_info": {
   "codemirror_mode": {
    "name": "ipython",
    "version": 3
   },
   "file_extension": ".py",
   "mimetype": "text/x-python",
   "name": "python",
   "nbconvert_exporter": "python",
   "pygments_lexer": "ipython3",
   "version": "3.9.20"
  }
 },
 "nbformat": 4,
 "nbformat_minor": 5
}
